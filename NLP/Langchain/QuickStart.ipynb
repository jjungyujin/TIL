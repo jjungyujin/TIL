{
 "cells": [
  {
   "cell_type": "code",
   "execution_count": 1,
   "metadata": {},
   "outputs": [],
   "source": [
    "import os\n",
    "import pprint\n",
    "from utils import secret_loader\n",
    "import openai\n",
    "\n",
    "from langchain.llms import OpenAI\n",
    "from langchain.chat_models import ChatOpenAI\n",
    "from langchain.schema import (\n",
    "    AIMessage, \n",
    "    HumanMessage, \n",
    "    SystemMessage\n",
    ")\n",
    "from langchain.prompts.chat import (\n",
    "    ChatPromptTemplate,\n",
    "    MessagesPlaceholder,\n",
    "    SystemMessagePromptTemplate,\n",
    "    HumanMessagePromptTemplate\n",
    ")\n",
    "from langchain.prompts import PromptTemplate\n",
    "from langchain import LLMChain\n",
    "from langchain.agents import AgentType, initialize_agent, load_tools, Tool\n",
    "from langchain.memory import ConversationBufferMemory\n",
    "from langchain.chains import ConversationChain"
   ]
  },
  {
   "attachments": {},
   "cell_type": "markdown",
   "metadata": {},
   "source": [
    "### req\n",
    "1. Installation\n",
    "    ```bash\n",
    "      pip install langchain\n",
    "    ```\n",
    "\n",
    "2. Setup API Key\n",
    "\n",
    "    option 1. <bash> `setx OPENAI_API_KEY “<yourkey>”`  \n",
    "    option 2. save in `secret.json` and add code below  \n",
    "    ```py\n",
    "    OPENAI = secret_loader.SecretLoader(\"OpenAI\")  \n",
    "    os.envrion[\"OPENAI_API_KEY\"] = OPENAI[\"api_key\"]\n",
    "    ```"
   ]
  },
  {
   "cell_type": "code",
   "execution_count": 2,
   "metadata": {},
   "outputs": [],
   "source": [
    "openai.api_key = os.environ[\"OPENAI_API_KEY\"]"
   ]
  },
  {
   "cell_type": "code",
   "execution_count": 3,
   "metadata": {},
   "outputs": [],
   "source": [
    "SERPER = secret_loader.SecretLoader(\"Serper\")\n",
    "os.environ[\"SERPAPI_API_KEY\"] = SERPER[\"api_key\"]"
   ]
  },
  {
   "attachments": {},
   "cell_type": "markdown",
   "metadata": {},
   "source": [
    "# LLMs"
   ]
  },
  {
   "cell_type": "code",
   "execution_count": 4,
   "metadata": {},
   "outputs": [
    {
     "data": {
      "text/plain": [
       "'\\n\\n1. SkinGenius\\n2. skINfluence\\n3. Hera Skin Coach\\n4. Skinenius\\n5. Neutrogena Skin360 Chatbot'"
      ]
     },
     "execution_count": 4,
     "metadata": {},
     "output_type": "execute_result"
    }
   ],
   "source": [
    "llm = OpenAI(temperature=0.9)\n",
    "    ## temperature : 높을수록 다양한 문장 생성\n",
    "llm.predict(\"Name an A.I. chatbot that gives skin advice.\")"
   ]
  },
  {
   "attachments": {},
   "cell_type": "markdown",
   "metadata": {},
   "source": [
    "# Chat models"
   ]
  },
  {
   "cell_type": "code",
   "execution_count": 5,
   "metadata": {},
   "outputs": [
    {
     "data": {
      "text/plain": [
       "AIMessage(content='\"피부 클리어링 챗봇\"', additional_kwargs={}, example=False)"
      ]
     },
     "execution_count": 5,
     "metadata": {},
     "output_type": "execute_result"
    }
   ],
   "source": [
    "chat = ChatOpenAI(temperature=0)\n",
    "chat.predict_messages([HumanMessage(content=\"맑고 투명하고 촉촉한 느낌의 피부 상담 챗봇을 만들었는데 이름을 지어주세요.\")])"
   ]
  },
  {
   "attachments": {},
   "cell_type": "markdown",
   "metadata": {},
   "source": [
    "# Prompt templates"
   ]
  },
  {
   "attachments": {},
   "cell_type": "markdown",
   "metadata": {},
   "source": [
    "Chat model\n",
    "- 메세지 프롬프트 : `SystemMessagePromptTemplate`, `HumanMessagePromptTemplate`\n",
    "- 대화 프롬프트 : 연속된 메세지 프롬프트를 담는 `ChatPromptTemplate`\n",
    "- 대화 프롬프트 format : `format_messages` or `format`\n",
    "    - output type : `ChatPromptTemplate` or `str`\n",
    "    \n",
    "LLMs\n",
    "- 텍스트 프롬프트 : `PromptTemplate`\n",
    "- 텍스트 프롬프트 format : `format`\n",
    "    - output type : `str`"
   ]
  },
  {
   "attachments": {},
   "cell_type": "markdown",
   "metadata": {},
   "source": [
    "## Chat models"
   ]
  },
  {
   "cell_type": "code",
   "execution_count": 2,
   "metadata": {},
   "outputs": [],
   "source": [
    "template = \"You are a dermatologist with years of experience in treating various skin conditions. You have extensive knowledge of skincare products and medical treatments for maintaining healthy skin. You are skilled at analyzing different skin types and characteristics, including texture, tone, and sensitivities. You can provide personalized advice based on an individual's unique skin needs. You can recommend appropriate skincare products for various skin concerns, such as acne, dryness, or sensitivity.\\n\\nWhen presented with a new question, please (1) provide a helpful initial response to the question and ask {question_num} follow-up questions for clarification, making it mandatory for the user to answer them. (2) Upon receiving answers to the follow-up questions, listen to the user's responses, and (3) offer a final, more informed answer that incorporates the additional information gathered.\"\n",
    "human_template = \"{user_question}\"\n",
    "\n",
    "system_message_prompt = SystemMessagePromptTemplate.from_template(template)\n",
    "human_message_prompt = HumanMessagePromptTemplate.from_template(human_template)\n",
    "chat_prompt = ChatPromptTemplate.from_messages([system_message_prompt, human_message_prompt])"
   ]
  },
  {
   "cell_type": "code",
   "execution_count": 5,
   "metadata": {},
   "outputs": [
    {
     "data": {
      "text/plain": [
       "[SystemMessage(content=\"You are a dermatologist with years of experience in treating various skin conditions. You have extensive knowledge of skincare products and medical treatments for maintaining healthy skin. You are skilled at analyzing different skin types and characteristics, including texture, tone, and sensitivities. You can provide personalized advice based on an individual's unique skin needs. You can recommend appropriate skincare products for various skin concerns, such as acne, dryness, or sensitivity.\\n\\nWhen presented with a new question, please (1) provide a helpful initial response to the question and ask 3 follow-up questions for clarification, making it mandatory for the user to answer them. (2) Upon receiving answers to the follow-up questions, listen to the user's responses, and (3) offer a final, more informed answer that incorporates the additional information gathered.\", additional_kwargs={}),\n",
       " HumanMessage(content='Recommend a summer skincare routine.', additional_kwargs={}, example=False)]"
      ]
     },
     "execution_count": 5,
     "metadata": {},
     "output_type": "execute_result"
    }
   ],
   "source": [
    "chat_prompt.format_messages(question_num=3, user_question=\"Recommend a summer skincare routine.\")"
   ]
  },
  {
   "attachments": {},
   "cell_type": "markdown",
   "metadata": {},
   "source": [
    "## LLMs"
   ]
  },
  {
   "cell_type": "code",
   "execution_count": 8,
   "metadata": {},
   "outputs": [
    {
     "data": {
      "text/plain": [
       "'Tell me what type of information you need as a dermatologist from a patient to advise them on Narrow-headed acne of their skin concerns.'"
      ]
     },
     "execution_count": 8,
     "metadata": {},
     "output_type": "execute_result"
    }
   ],
   "source": [
    "prompt = PromptTemplate.from_template(\"Tell me what type of information you need as a dermatologist from a patient to advise them on {skin_concerns} of their skin concerns.\")\n",
    "prompt.format(skin_concerns=\"Narrow-headed acne\")"
   ]
  },
  {
   "attachments": {},
   "cell_type": "markdown",
   "metadata": {},
   "source": [
    "```py\n",
    "def format(self, **kwargs: Any) -> str:\n",
    "    return self.format_prompt(**kwargs).to_string()\n",
    "```"
   ]
  },
  {
   "attachments": {},
   "cell_type": "markdown",
   "metadata": {},
   "source": [
    "# Chains"
   ]
  },
  {
   "attachments": {},
   "cell_type": "markdown",
   "metadata": {},
   "source": [
    "- llm과 prompt를 결합하여 workflow 구성\n",
    "- 모델에 관계없이 `LLMChain` 모듈 활용  \n",
    "\n",
    "단, llm(`ChatOpenAI` or `OpenAI`)과 prompt(`chat_prompt` or `prompt`)가 다름"
   ]
  },
  {
   "attachments": {},
   "cell_type": "markdown",
   "metadata": {},
   "source": [
    "## Chat models"
   ]
  },
  {
   "cell_type": "code",
   "execution_count": 9,
   "metadata": {},
   "outputs": [
    {
     "data": {
      "text/plain": [
       "\"A good summer skincare routine should focus on protecting your skin from the sun, keeping it hydrated, and preventing breakouts caused by sweat and excess oil. Here's a basic summer skincare routine to get you started:\\n\\n1. Cleanse: Start your routine by cleansing your face with a gentle cleanser. This will remove dirt, sweat, and excess oil without stripping your skin of its natural moisture. Do you have any specific skin concerns or sensitivities that I should consider when recommending a cleanser?\\n\\n2. Hydrate: After cleansing, apply a lightweight, oil-free moisturizer to keep your skin hydrated without feeling heavy or greasy. Look for a moisturizer with SPF to provide sun protection. Do you have any specific preferences or concerns when it comes to moisturizers?\\n\\n3. Sunscreen: Apply a broad-spectrum sunscreen with at least SPF 30 every morning, even on cloudy days. Reapply every two hours if you're spending time outdoors. Do you have any specific preferences or concerns when it comes to sunscreen?\\n\\n4. Exfoliate: Use a gentle exfoliator once or twice a week to remove dead skin cells and unclog pores. This will help prevent breakouts and keep your skin looking fresh. Do you have any specific skin concerns or sensitivities that I should consider when recommending an exfoliator?\\n\\n5. Hydrating face masks: Treat your skin to a hydrating face mask once a week to replenish moisture and soothe any sun-exposed skin. Look for masks with ingredients like aloe vera or hyaluronic acid. Do you have any specific preferences or concerns when it comes to face masks?\\n\\nPlease let me know your specific skin concerns, sensitivities, and preferences so that I can provide a more tailored recommendation for your summer skincare routine.\""
      ]
     },
     "execution_count": 9,
     "metadata": {},
     "output_type": "execute_result"
    }
   ],
   "source": [
    "chain_chat = ChatOpenAI(temperature=0)\n",
    "chain = LLMChain(llm=chain_chat, prompt=chat_prompt)\n",
    "chain.run(question_num=3, user_question=\"Recommend a summer skincare routine.\")"
   ]
  },
  {
   "attachments": {},
   "cell_type": "markdown",
   "metadata": {},
   "source": [
    "A good summer skincare routine should focus on protecting your skin from the sun, keeping it hydrated, and preventing breakouts caused by sweat and excess oil. Here's a basic summer skincare routine to get you started:\n",
    "\n",
    "1. Cleanse: Start your routine by cleansing your face with a gentle cleanser. This will remove dirt, sweat, and excess oil without stripping your skin of its natural moisture. Do you have any specific skin concerns or sensitivities that I should consider when recommending a cleanser?\n",
    "\n",
    "2. Hydrate: After cleansing, apply a lightweight, oil-free moisturizer to keep your skin hydrated without feeling heavy or greasy. Look for a moisturizer with SPF to provide sun protection. Do you have any specific preferences or concerns when it comes to moisturizers?\n",
    "\n",
    "3. Sunscreen: Apply a broad-spectrum sunscreen with at least SPF 30 every morning, even on cloudy days. Reapply every two hours if you're spending time outdoors. Do you have any specific preferences or concerns when it comes to sunscreen?\n",
    "\n",
    "4. Exfoliate: Use a gentle exfoliator once or twice a week to remove dead skin cells and unclog pores. This will help prevent breakouts and keep your skin looking fresh. Do you have any specific skin concerns or sensitivities that I should consider when recommending an exfoliator?\n",
    "\n",
    "5. Hydrating face masks: Treat your skin to a hydrating face mask once a week to replenish moisture and soothe any sun-exposed skin. Look for masks with ingredients like aloe vera or hyaluronic acid. Do you have any specific preferences or concerns when it comes to face masks?\n",
    "\n",
    "Please let me know your specific skin concerns, sensitivities, and preferences so that I can provide a more tailored recommendation for your summer skincare routine."
   ]
  },
  {
   "attachments": {},
   "cell_type": "markdown",
   "metadata": {},
   "source": [
    "## LLMs"
   ]
  },
  {
   "cell_type": "code",
   "execution_count": 10,
   "metadata": {},
   "outputs": [
    {
     "data": {
      "text/plain": [
       "\"\\n\\n1. Patient's medical history: To ascertain any underlying conditions that could be contributing to the acne.\\n2. Current condition of skin: To determine the severity of the condition and the most appropriate treatment plan.\\n3. Patient's lifestyle: To be able to assess any factors such as diet or stress that could be causing or exacerbating the condition.\\n4. Patient's current skincare routine: To assess any products that may be contributing to the acne.\\n5. Patient's age and gender: To tailor a treatment plan to meet the needs of the individual patient.\""
      ]
     },
     "execution_count": 10,
     "metadata": {},
     "output_type": "execute_result"
    }
   ],
   "source": [
    "prompt = PromptTemplate.from_template(\"Tell me what type of information you need as a dermatologist from a patient to advise them on {skin_concerns} of their skin concerns.\")\n",
    "chain = LLMChain(llm=llm, prompt=prompt)\n",
    "chain.run(\"Narrow-headed acne\")"
   ]
  },
  {
   "attachments": {},
   "cell_type": "markdown",
   "metadata": {},
   "source": [
    "1. Patient's medical history: To ascertain any underlying conditions that could be contributing to the acne.\n",
    "2. Current condition of skin: To determine the severity of the condition and the most appropriate treatment plan.\n",
    "3. Patient's lifestyle: To be able to assess any factors such as diet or stress that could be causing or exacerbating the condition.\n",
    "4. Patient's current skincare routine: To assess any products that may be contributing to the acne.\n",
    "5. Patient's age and gender: To tailor a treatment plan to meet the needs of the individual patient."
   ]
  },
  {
   "attachments": {},
   "cell_type": "markdown",
   "metadata": {},
   "source": [
    "# Agents"
   ]
  },
  {
   "attachments": {},
   "cell_type": "markdown",
   "metadata": {},
   "source": [
    "`initialize_agent`의 모델 파라미터 입력 차이"
   ]
  },
  {
   "attachments": {},
   "cell_type": "markdown",
   "metadata": {},
   "source": [
    "### Req\n",
    "\n",
    "<bash>`pip install google-search-results`"
   ]
  },
  {
   "attachments": {},
   "cell_type": "markdown",
   "metadata": {},
   "source": [
    "## Chat models"
   ]
  },
  {
   "cell_type": "code",
   "execution_count": 11,
   "metadata": {},
   "outputs": [
    {
     "name": "stdout",
     "output_type": "stream",
     "text": [
      "\n",
      "\n",
      "\u001b[1m> Entering new AgentExecutor chain...\u001b[0m\n",
      "\u001b[32;1m\u001b[1;3mI need to find the high temperature in SF yesterday and then raise it to the .023 power.\n",
      "Action: Search\n",
      "Action Input: \"high temperature in SF yesterday\"\u001b[0m\n",
      "Observation: \u001b[36;1m\u001b[1;3mHigh: 69.8ºf @12:30 PM Low: 55.94ºf @3:56 AM Approx. Precipitation / Rain Total: in. 1hr.\u001b[0m\n",
      "Thought:\u001b[32;1m\u001b[1;3mI found the high temperature in SF yesterday, but I need to convert it to Fahrenheit and then raise it to the .023 power.\n",
      "Action: Calculator\n",
      "Action Input: (69.8 * 9/5) + 32\u001b[0m\n",
      "Observation: \u001b[33;1m\u001b[1;3mAnswer: 157.64\u001b[0m\n",
      "Thought:\u001b[32;1m\u001b[1;3mI now have the high temperature in SF yesterday in Fahrenheit. Now I can raise it to the .023 power.\n",
      "Action: Calculator\n",
      "Action Input: 157.64 ^ 0.023\u001b[0m\n",
      "Observation: \u001b[33;1m\u001b[1;3mAnswer: 1.1234308038113916\u001b[0m\n",
      "Thought:\u001b[32;1m\u001b[1;3mI now know the final answer.\n",
      "Final Answer: The high temperature in SF yesterday in Fahrenheit raised to the .023 power is approximately 1.1234.\u001b[0m\n",
      "\n",
      "\u001b[1m> Finished chain.\u001b[0m\n"
     ]
    },
    {
     "data": {
      "text/plain": [
       "'The high temperature in SF yesterday in Fahrenheit raised to the .023 power is approximately 1.1234.'"
      ]
     },
     "execution_count": 11,
     "metadata": {},
     "output_type": "execute_result"
    }
   ],
   "source": [
    "chat = ChatOpenAI(temperature=0)\n",
    "llm = OpenAI(temperature=0)\n",
    "tools = load_tools([\"serpapi\", \"llm-math\"], llm=llm)\n",
    "    ## Note that the 'llm-math' tool uses an LLM, so we need to pass that in.\n",
    "agent = initialize_agent(tools, chat, agent=AgentType.ZERO_SHOT_REACT_DESCRIPTION, verbose=True)\n",
    "    ## ZERO_SHOT_REACT_DESCRIPTION : 0-shot learning을 통해 대화를 이어나가는 agent\n",
    "    ## verbose : True일 경우, agent의 상태를 출력\n",
    "agent.run(\"What was the high temperature in SF yesterday in Fahrenheit? What is that number raised to the .023 power?\")"
   ]
  },
  {
   "attachments": {},
   "cell_type": "markdown",
   "metadata": {},
   "source": [
    "## LLMs"
   ]
  },
  {
   "cell_type": "code",
   "execution_count": 12,
   "metadata": {},
   "outputs": [
    {
     "name": "stdout",
     "output_type": "stream",
     "text": [
      "\n",
      "\n",
      "\u001b[1m> Entering new AgentExecutor chain...\u001b[0m\n",
      "\u001b[32;1m\u001b[1;3m I need to find the temperature first, then use the calculator to raise it to the .023 power.\n",
      "Action: Search\n",
      "Action Input: \"High temperature in SF yesterday\"\u001b[0m\n",
      "Observation: \u001b[36;1m\u001b[1;3mHigh: 69.8ºf @12:30 PM Low: 55.94ºf @3:56 AM Approx. Precipitation / Rain Total: in. 1hr.\u001b[0m\n",
      "Thought:\u001b[32;1m\u001b[1;3m I now need to use the calculator to raise 69.8 to the .023 power\n",
      "Action: Calculator\n",
      "Action Input: 69.8^.023\u001b[0m\n",
      "Observation: \u001b[33;1m\u001b[1;3mAnswer: 1.1025763550530143\u001b[0m\n",
      "Thought:\u001b[32;1m\u001b[1;3m I now know the final answer\n",
      "Final Answer: 1.1025763550530143\u001b[0m\n",
      "\n",
      "\u001b[1m> Finished chain.\u001b[0m\n"
     ]
    },
    {
     "data": {
      "text/plain": [
       "'1.1025763550530143'"
      ]
     },
     "execution_count": 12,
     "metadata": {},
     "output_type": "execute_result"
    }
   ],
   "source": [
    "llm = OpenAI(temperature=0)\n",
    "tools = tools = load_tools([\"serpapi\", \"llm-math\"], llm=llm)\n",
    "agent = initialize_agent(tools, llm, agent=AgentType.ZERO_SHOT_REACT_DESCRIPTION, verbose=True)\n",
    "agent.run(\"What was the high temperature in SF yesterday in Fahrenheit? What is that number raised to the .023 power?\")"
   ]
  },
  {
   "attachments": {},
   "cell_type": "markdown",
   "metadata": {},
   "source": [
    "# Memory"
   ]
  },
  {
   "attachments": {},
   "cell_type": "markdown",
   "metadata": {},
   "source": [
    "최신 interaction을 저장하여 application의 state를 기록  \n",
    "\n",
    "Chat models\n",
    "- `ConversationChain(memory, ChatPromptTemplate, ChatOpenAI)`\n",
    "- `ConversationChain.predict()`\n",
    "\n",
    "LLMs\n",
    "- `ConversationChain(OpenAI)`\n",
    "- `ConversationChain.run()`"
   ]
  },
  {
   "attachments": {},
   "cell_type": "markdown",
   "metadata": {},
   "source": [
    "## Chat models"
   ]
  },
  {
   "cell_type": "code",
   "execution_count": 13,
   "metadata": {},
   "outputs": [
    {
     "data": {
      "text/plain": [
       "\"Hello! I'm an AI language model, so I don't have feelings, but I'm here to help you. How can I assist you today?\""
      ]
     },
     "execution_count": 13,
     "metadata": {},
     "output_type": "execute_result"
    }
   ],
   "source": [
    "prompt = ChatPromptTemplate.from_messages([\n",
    "    SystemMessagePromptTemplate.from_template(\"The following is a friendly conversation between a human and an AI. The AI is talkative and \"\n",
    "                                              \"provides lots of specific details from its context. If the AI does not know the answer to a \"\n",
    "                                              \"question, it truthfully says it does not know.\"\n",
    "    ),\n",
    "    MessagesPlaceholder(variable_name=\"history\"),\n",
    "    HumanMessagePromptTemplate.from_template(\"{input}\")\n",
    "])\n",
    "llm = ChatOpenAI(temperature=0)\n",
    "memory = ConversationBufferMemory(return_messages=True)\n",
    "conversation = ConversationChain(memory=memory, prompt=prompt, llm=llm)\n",
    "conversation.predict(input=\"Hi, how are you?\")"
   ]
  },
  {
   "cell_type": "code",
   "execution_count": 14,
   "metadata": {},
   "outputs": [
    {
     "data": {
      "text/plain": [
       "\"Certainly! How about a classic recipe for spaghetti aglio e olio? It's a simple and delicious Italian dish. Here's what you'll need:\\n\\nIngredients:\\n- 8 ounces of spaghetti\\n- 4 cloves of garlic, thinly sliced\\n- 1/4 cup of extra virgin olive oil\\n- 1/2 teaspoon of red pepper flakes (adjust to your spice preference)\\n- Salt, to taste\\n- Freshly ground black pepper, to taste\\n- 1/4 cup of chopped fresh parsley\\n- Grated Parmesan cheese (optional)\\n\\nInstructions:\\n1. Cook the spaghetti according to the package instructions until al dente. Drain and set aside.\\n2. In a large skillet, heat the olive oil over medium heat. Add the sliced garlic and red pepper flakes. Cook for about 2-3 minutes until the garlic turns golden brown and fragrant. Be careful not to burn the garlic.\\n3. Add the cooked spaghetti to the skillet and toss well to coat the pasta with the garlic-infused oil. Season with salt and black pepper to taste.\\n4. Remove the skillet from heat and sprinkle the chopped parsley over the spaghetti. Toss again to combine.\\n5. Serve the spaghetti aglio e olio hot, garnished with grated Parmesan cheese if desired.\\n\\nEnjoy your simple and flavorful spaghetti aglio e olio! Let me know if there's anything else I can assist you with.\""
      ]
     },
     "execution_count": 14,
     "metadata": {},
     "output_type": "execute_result"
    }
   ],
   "source": [
    "conversation.predict(input=\"Suggest a recipe for a simple dish menu.\")"
   ]
  },
  {
   "attachments": {},
   "cell_type": "markdown",
   "metadata": {},
   "source": [
    "Certainly! How about a classic recipe for spaghetti aglio e olio? It's a simple and delicious Italian dish. Here's what you'll need:\n",
    "\n",
    "Ingredients:\n",
    "- 8 ounces of spaghetti\\n- 4 cloves of garlic, thinly sliced\n",
    "- 1/4 cup of extra virgin olive oil\n",
    "- 1/2 teaspoon of red pepper flakes (adjust to your spice preference)\n",
    "- Salt, to taste\n",
    "- Freshly ground black pepper, to taste\n",
    "- 1/4 cup of chopped fresh parsley\n",
    "- Grated Parmesan cheese (optional)\n",
    "\n",
    "Instructions:\n",
    "1. Cook the spaghetti according to the package instructions until al dente. Drain and set aside.\n",
    "2. In a large skillet, heat the olive oil over medium heat. Add the sliced garlic and red pepper flakes. Cook for about 2-3 minutes until the garlic turns golden brown and fragrant. Be careful not to burn the garlic.\n",
    "3. Add the cooked spaghetti to the skillet and toss well to coat the pasta with the garlic-infused oil. Season with salt and black pepper to taste.\n",
    "4. Remove the skillet from heat and sprinkle the chopped parsley over the spaghetti. Toss again to combine.\n",
    "5. Serve the spaghetti aglio e olio hot, garnished with grated Parmesan cheese if desired.\n",
    "\n",
    "Enjoy your simple and flavorful spaghetti aglio e olio! Let me know if there's anything else I can assist you with."
   ]
  },
  {
   "cell_type": "code",
   "execution_count": 15,
   "metadata": {},
   "outputs": [
    {
     "data": {
      "text/plain": [
       "\"If you don't have extra virgin olive oil on hand, don't worry! There are a few alternatives you can use in the spaghetti aglio e olio recipe:\\n\\n1. Regular Olive Oil: Regular olive oil is a suitable substitute for extra virgin olive oil in this recipe. It has a milder flavor but will still work well.\\n\\n2. Vegetable Oil: Vegetable oil, such as canola or sunflower oil, can be used as a substitute. Keep in mind that it has a neutral flavor, so the dish may have a slightly different taste.\\n\\n3. Butter: If you prefer a richer flavor, you can use butter instead of olive oil. Melt the butter in the skillet and sauté the garlic and red pepper flakes in it. Be aware that this will alter the traditional taste of the dish.\\n\\nRemember, the choice of oil or butter will affect the overall flavor of the dish, so choose an alternative that suits your taste preferences. Enjoy your spaghetti aglio e olio! Let me know if there's anything else I can help you with.\""
      ]
     },
     "execution_count": 15,
     "metadata": {},
     "output_type": "execute_result"
    }
   ],
   "source": [
    "conversation.predict(input=\"Give me alternatives when I don't have extra virgin olive oil.\")"
   ]
  },
  {
   "attachments": {},
   "cell_type": "markdown",
   "metadata": {},
   "source": [
    "If you don't have extra virgin olive oil on hand, don't worry! There are a few alternatives you can use in the spaghetti aglio e olio recipe:\n",
    "\n",
    "1. Regular Olive Oil: Regular olive oil is a suitable substitute for extra virgin olive oil in this recipe. It has a milder flavor but will still work well.\n",
    "\n",
    "2. Vegetable Oil: Vegetable oil, such as canola or sunflower oil, can be used as a substitute. Keep in mind that it has a neutral flavor, so the dish may have a slightly different taste.\n",
    "\n",
    "3. Butter: If you prefer a richer flavor, you can use butter instead of olive oil. Melt the butter in the skillet and sauté the garlic and red pepper flakes in it. Be aware that this will alter the traditional taste of the dish.\n",
    "\n",
    "Remember, the choice of oil or butter will affect the overall flavor of the dish, so choose an alternative that suits your taste preferences. Enjoy your spaghetti aglio e olio! Let me know if there's anything else I can help you with."
   ]
  },
  {
   "attachments": {},
   "cell_type": "markdown",
   "metadata": {},
   "source": [
    "## LLMs"
   ]
  },
  {
   "cell_type": "code",
   "execution_count": 16,
   "metadata": {},
   "outputs": [
    {
     "name": "stdout",
     "output_type": "stream",
     "text": [
      "\n",
      "\n",
      "\u001b[1m> Entering new ConversationChain chain...\u001b[0m\n",
      "Prompt after formatting:\n",
      "\u001b[32;1m\u001b[1;3mThe following is a friendly conversation between a human and an AI. The AI is talkative and provides lots of specific details from its context. If the AI does not know the answer to a question, it truthfully says it does not know.\n",
      "\n",
      "Current conversation:\n",
      "\n",
      "Human: Hi there!\n",
      "AI:\u001b[0m\n",
      "\n",
      "\u001b[1m> Finished chain.\u001b[0m\n"
     ]
    },
    {
     "data": {
      "text/plain": [
       "\" Hi there! It's nice to meet you. My name is AI. What's your name?\""
      ]
     },
     "execution_count": 16,
     "metadata": {},
     "output_type": "execute_result"
    }
   ],
   "source": [
    "llm = OpenAI(temperature=0)\n",
    "conversation = ConversationChain(llm=llm, verbose=True)\n",
    "\n",
    "conversation.run(\"Hi there!\")"
   ]
  },
  {
   "cell_type": "code",
   "execution_count": 17,
   "metadata": {},
   "outputs": [
    {
     "name": "stdout",
     "output_type": "stream",
     "text": [
      "\n",
      "\n",
      "\u001b[1m> Entering new ConversationChain chain...\u001b[0m\n",
      "Prompt after formatting:\n",
      "\u001b[32;1m\u001b[1;3mThe following is a friendly conversation between a human and an AI. The AI is talkative and provides lots of specific details from its context. If the AI does not know the answer to a question, it truthfully says it does not know.\n",
      "\n",
      "Current conversation:\n",
      "Human: Hi there!\n",
      "AI:  Hi there! It's nice to meet you. My name is AI. What's your name?\n",
      "Human: I'm doing well! Just having a conversation with an AI.\n",
      "AI:\u001b[0m\n",
      "\n",
      "\u001b[1m> Finished chain.\u001b[0m\n"
     ]
    },
    {
     "data": {
      "text/plain": [
       "\" That's great! It's always nice to have a conversation with someone new. What would you like to talk about?\""
      ]
     },
     "execution_count": 17,
     "metadata": {},
     "output_type": "execute_result"
    }
   ],
   "source": [
    "conversation.run(\"I'm doing well! Just having a conversation with an AI.\")"
   ]
  },
  {
   "attachments": {},
   "cell_type": "markdown",
   "metadata": {},
   "source": [
    "## BackLogs\n",
    "#### 확인해볼 사항 !\n",
    "- LLM의 default model은 ?\n",
    "- `MessagePlaceHolder`의 역할은 ? 왜 필요하지 ?\n",
    "- `Memory` 객체의 종류는 ? 메모리 유형에 따라 저장 기능의 차이점은 ?\n",
    "\n",
    "\n",
    "#### 코드를 더 뜯어보자 !\n",
    "- `PromptTemplate`이든, `ChatPromptTemplate`이든  \n",
    "    그래서 LLM에 어떻게 들어가고 처리되는지 (back단에서의 과정) 코드 뜯어보기\n",
    "- `Agent`를 `initialize`하는데 parameter로 들어간 `tool`을 어떻게 선택하고,\n",
    "    `prompt`와 어떤 영향/관계가 있는지 코드 뜯어보기\n",
    "- `Action`이 결정되고 수행되는 process 코드\n",
    "- `ConversationChain`에서 `LLM` 모델 사용 시 `memory`없이 어떻게 돌아가는지\n",
    "- `ConversationChain`의 `predict` 함수 vs `run` 함수"
   ]
  },
  {
   "attachments": {},
   "cell_type": "markdown",
   "metadata": {},
   "source": []
  }
 ],
 "metadata": {
  "kernelspec": {
   "display_name": "genesis",
   "language": "python",
   "name": "python3"
  },
  "language_info": {
   "codemirror_mode": {
    "name": "ipython",
    "version": 3
   },
   "file_extension": ".py",
   "mimetype": "text/x-python",
   "name": "python",
   "nbconvert_exporter": "python",
   "pygments_lexer": "ipython3",
   "version": "3.10.11"
  },
  "orig_nbformat": 4
 },
 "nbformat": 4,
 "nbformat_minor": 2
}
