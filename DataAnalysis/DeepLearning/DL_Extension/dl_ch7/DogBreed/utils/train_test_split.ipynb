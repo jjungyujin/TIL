{
 "cells": [
  {
   "cell_type": "code",
   "execution_count": 1,
   "metadata": {},
   "outputs": [],
   "source": [
    "import numpy as np\n",
    "import pandas as pd\n",
    "from pathlib import Path\n",
    "from sklearn.model_selection import train_test_split\n",
    "import shutil\n"
   ]
  },
  {
   "attachments": {},
   "cell_type": "markdown",
   "metadata": {},
   "source": [
    "## dataset list"
   ]
  },
  {
   "cell_type": "code",
   "execution_count": 2,
   "metadata": {},
   "outputs": [
    {
     "data": {
      "text/plain": [
       "array([[PosixPath('../data/StanfordDogs/Images/Newfoundland/n02111277_341.jpg'),\n",
       "        'Newfoundland'],\n",
       "       [PosixPath('../data/StanfordDogs/Images/Newfoundland/n02111277_2885.jpg'),\n",
       "        'Newfoundland'],\n",
       "       [PosixPath('../data/StanfordDogs/Images/Newfoundland/n02111277_14422.jpg'),\n",
       "        'Newfoundland'],\n",
       "       ...,\n",
       "       [PosixPath('../data/StanfordDogs/Images/Brabancon_griffon/n02112706_1983.jpg'),\n",
       "        'Brabancon_griffon'],\n",
       "       [PosixPath('../data/StanfordDogs/Images/Brabancon_griffon/n02112706_2467.jpg'),\n",
       "        'Brabancon_griffon'],\n",
       "       [PosixPath('../data/StanfordDogs/Images/Brabancon_griffon/n02112706_1922.jpg'),\n",
       "        'Brabancon_griffon']], dtype=object)"
      ]
     },
     "execution_count": 2,
     "metadata": {},
     "output_type": "execute_result"
    }
   ],
   "source": [
    "dataset = []\n",
    "\n",
    "dir_path = Path('../data/StanfordDogs/Images')\n",
    "for jpg_path in dir_path.glob('**/*.jpg'):\n",
    "  breed_name = jpg_path.parent.name\n",
    "  dataset.append([jpg_path, breed_name])\n",
    "dataset = np.array(dataset)\n",
    "dataset"
   ]
  },
  {
   "attachments": {},
   "cell_type": "markdown",
   "metadata": {},
   "source": [
    "## train test split"
   ]
  },
  {
   "cell_type": "code",
   "execution_count": 3,
   "metadata": {},
   "outputs": [],
   "source": [
    "train_image, test_image, train_target, test_target = train_test_split(dataset[:, 0], dataset[:, 1], stratify=dataset[:, 1], test_size=0.2)"
   ]
  },
  {
   "cell_type": "code",
   "execution_count": 4,
   "metadata": {},
   "outputs": [
    {
     "data": {
      "text/plain": [
       "Maltese_dog            0.012209\n",
       "Afghan_hound           0.011602\n",
       "Scottish_deerhound     0.011237\n",
       "Pomeranian             0.010630\n",
       "Samoyed                0.010569\n",
       "                         ...   \n",
       "Doberman               0.007289\n",
       "Border_collie          0.007289\n",
       "Irish_water_spaniel    0.007289\n",
       "Pekinese               0.007228\n",
       "redbone                0.007168\n",
       "Length: 120, dtype: float64"
      ]
     },
     "execution_count": 4,
     "metadata": {},
     "output_type": "execute_result"
    }
   ],
   "source": [
    "pd.Series(train_target).value_counts() / len(train_target)"
   ]
  },
  {
   "cell_type": "code",
   "execution_count": 5,
   "metadata": {},
   "outputs": [
    {
     "data": {
      "text/plain": [
       "Maltese_dog                    0.012391\n",
       "Afghan_hound                   0.011662\n",
       "Scottish_deerhound             0.011419\n",
       "Samoyed                        0.010690\n",
       "Bernese_mountain_dog           0.010690\n",
       "                                 ...   \n",
       "Border_collie                  0.007289\n",
       "German_short-haired_pointer    0.007289\n",
       "kuvasz                         0.007289\n",
       "Pekinese                       0.007289\n",
       "borzoi                         0.007289\n",
       "Length: 120, dtype: float64"
      ]
     },
     "execution_count": 5,
     "metadata": {},
     "output_type": "execute_result"
    }
   ],
   "source": [
    "pd.Series(test_target).value_counts() / len(test_target)"
   ]
  },
  {
   "cell_type": "code",
   "execution_count": 6,
   "metadata": {},
   "outputs": [
    {
     "data": {
      "text/plain": [
       "((16463,), (4116,), (16463,), (4116,))"
      ]
     },
     "execution_count": 6,
     "metadata": {},
     "output_type": "execute_result"
    }
   ],
   "source": [
    "train_image.shape, test_image.shape, train_target.shape, test_target.shape"
   ]
  },
  {
   "cell_type": "code",
   "execution_count": 7,
   "metadata": {},
   "outputs": [
    {
     "data": {
      "text/plain": [
       "120"
      ]
     },
     "execution_count": 7,
     "metadata": {},
     "output_type": "execute_result"
    }
   ],
   "source": [
    "len(set(test_target))"
   ]
  },
  {
   "attachments": {},
   "cell_type": "markdown",
   "metadata": {},
   "source": [
    "## train, test dataset"
   ]
  },
  {
   "attachments": {},
   "cell_type": "markdown",
   "metadata": {},
   "source": [
    "### directory 생성"
   ]
  },
  {
   "cell_type": "code",
   "execution_count": 8,
   "metadata": {},
   "outputs": [],
   "source": [
    "for breed_name in set(test_target):\n",
    "  Path(f'../data/StanfordDogs/test/{breed_name}').mkdir(parents=True)\n",
    "  Path(f'../data/StanfordDogs/train/{breed_name}').mkdir(parents=True)\n",
    "  Path(f'../data/StanfordDogs/valid/{breed_name}').mkdir(parents=True)\n"
   ]
  },
  {
   "attachments": {},
   "cell_type": "markdown",
   "metadata": {},
   "source": [
    "### 파일 이동"
   ]
  },
  {
   "cell_type": "code",
   "execution_count": 9,
   "metadata": {},
   "outputs": [],
   "source": [
    "for filepath, target_dir in zip(train_image.tolist(), train_target.tolist()):\n",
    "  source_path = filepath\n",
    "  filename = str(filepath).split('/')[-1]\n",
    "  target_dir_path = f'../data/StanfordDogs/train/{target_dir}/{filename}'\n",
    "  shutil.copy(source_path, target_dir_path)\n",
    "\n",
    "for filepath, target_dir in zip(test_image.tolist(), test_target.tolist()):\n",
    "  source_path = filepath\n",
    "  filename = str(filepath).split('/')[-1]\n",
    "  target_dir_path = f'../data/StanfordDogs/test/{target_dir}/{filename}'\n",
    "  shutil.copy(source_path, target_dir_path)"
   ]
  },
  {
   "attachments": {},
   "cell_type": "markdown",
   "metadata": {},
   "source": [
    "## train, validation split"
   ]
  },
  {
   "cell_type": "code",
   "execution_count": 14,
   "metadata": {},
   "outputs": [
    {
     "data": {
      "text/plain": [
       "array([[PosixPath('../data/StanfordDogs/Images/Irish_water_spaniel/n02102973_399.jpg'),\n",
       "        'Irish_water_spaniel'],\n",
       "       [PosixPath('../data/StanfordDogs/Images/Chesapeake_Bay_retriever/n02099849_110.jpg'),\n",
       "        'Chesapeake_Bay_retriever'],\n",
       "       [PosixPath('../data/StanfordDogs/Images/Gordon_setter/n02101006_3062.jpg'),\n",
       "        'Gordon_setter'],\n",
       "       ...,\n",
       "       [PosixPath('../data/StanfordDogs/Images/kuvasz/n02104029_3942.jpg'),\n",
       "        'kuvasz'],\n",
       "       [PosixPath('../data/StanfordDogs/Images/bull_mastiff/n02108422_90.jpg'),\n",
       "        'bull_mastiff'],\n",
       "       [PosixPath('../data/StanfordDogs/Images/Border_collie/n02106166_1246.jpg'),\n",
       "        'Border_collie']], dtype=object)"
      ]
     },
     "execution_count": 14,
     "metadata": {},
     "output_type": "execute_result"
    }
   ],
   "source": [
    "train_dataset = np.array([[img, tar] for img, tar in zip(train_image, train_target)])\n",
    "train_dataset"
   ]
  },
  {
   "cell_type": "code",
   "execution_count": 16,
   "metadata": {},
   "outputs": [],
   "source": [
    "train_image, valid_image, train_target, valid_target = train_test_split(train_dataset[:, 0], train_dataset[:, 1], stratify=train_dataset[:, 1], test_size=0.2)"
   ]
  },
  {
   "cell_type": "code",
   "execution_count": 17,
   "metadata": {},
   "outputs": [],
   "source": [
    "for filepath, target_dir in zip(valid_image.tolist(), valid_target.tolist()):\n",
    "  source_path = filepath\n",
    "  filename = str(filepath).split('/')[-1]\n",
    "  target_dir_path = f'../data/StanfordDogs/valid/{target_dir}/{filename}'\n",
    "  shutil.move(source_path, target_dir_path)"
   ]
  },
  {
   "cell_type": "code",
   "execution_count": null,
   "metadata": {},
   "outputs": [],
   "source": []
  }
 ],
 "metadata": {
  "kernelspec": {
   "display_name": "teamlab",
   "language": "python",
   "name": "python3"
  },
  "language_info": {
   "codemirror_mode": {
    "name": "ipython",
    "version": 3
   },
   "file_extension": ".py",
   "mimetype": "text/x-python",
   "name": "python",
   "nbconvert_exporter": "python",
   "pygments_lexer": "ipython3",
   "version": "3.8.16"
  },
  "orig_nbformat": 4,
  "vscode": {
   "interpreter": {
    "hash": "80b287a4a483792ca22034c5bcc5ff7ffbd6fc53069e38e5c405561448054e75"
   }
  }
 },
 "nbformat": 4,
 "nbformat_minor": 2
}
