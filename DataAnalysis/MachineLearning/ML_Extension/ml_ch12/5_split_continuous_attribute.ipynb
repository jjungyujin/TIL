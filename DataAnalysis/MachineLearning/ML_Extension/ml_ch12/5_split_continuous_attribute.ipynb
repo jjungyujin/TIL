{
 "cells": [
  {
   "cell_type": "markdown",
   "metadata": {},
   "source": [
    "## Continuous Attribute 나누기"
   ]
  },
  {
   "cell_type": "markdown",
   "metadata": {},
   "source": [
    "불연속적 명목 데이터에 비해 나눌 수 있는 구간이 많음\n",
    "1) 전체 데이터를 모두 기준점으로 한다\n",
    "2) 중위값, 4분위수들을 기준점으로 한다 (binning)\n",
    "3) **Y-class값이 바뀌는 수를 기준점으로 한다**"
   ]
  },
  {
   "cell_type": "code",
   "execution_count": 1,
   "metadata": {},
   "outputs": [],
   "source": [
    "import pandas as pd \n",
    "import numpy as np "
   ]
  },
  {
   "cell_type": "code",
   "execution_count": 2,
   "metadata": {},
   "outputs": [
    {
     "data": {
      "text/html": [
       "<div>\n",
       "<style scoped>\n",
       "    .dataframe tbody tr th:only-of-type {\n",
       "        vertical-align: middle;\n",
       "    }\n",
       "\n",
       "    .dataframe tbody tr th {\n",
       "        vertical-align: top;\n",
       "    }\n",
       "\n",
       "    .dataframe thead th {\n",
       "        text-align: right;\n",
       "    }\n",
       "</style>\n",
       "<table border=\"1\" class=\"dataframe\">\n",
       "  <thead>\n",
       "    <tr style=\"text-align: right;\">\n",
       "      <th></th>\n",
       "      <th>ID</th>\n",
       "      <th>STREAM</th>\n",
       "      <th>SLOPE</th>\n",
       "      <th>ELEVATION</th>\n",
       "      <th>VEGETATION</th>\n",
       "    </tr>\n",
       "  </thead>\n",
       "  <tbody>\n",
       "    <tr>\n",
       "      <th>0</th>\n",
       "      <td>1</td>\n",
       "      <td>False</td>\n",
       "      <td>steep</td>\n",
       "      <td>3900</td>\n",
       "      <td>chapparal</td>\n",
       "    </tr>\n",
       "    <tr>\n",
       "      <th>1</th>\n",
       "      <td>2</td>\n",
       "      <td>True</td>\n",
       "      <td>moderate</td>\n",
       "      <td>300</td>\n",
       "      <td>riparian</td>\n",
       "    </tr>\n",
       "    <tr>\n",
       "      <th>2</th>\n",
       "      <td>3</td>\n",
       "      <td>True</td>\n",
       "      <td>steep</td>\n",
       "      <td>1500</td>\n",
       "      <td>riparian</td>\n",
       "    </tr>\n",
       "    <tr>\n",
       "      <th>3</th>\n",
       "      <td>4</td>\n",
       "      <td>False</td>\n",
       "      <td>steep</td>\n",
       "      <td>1200</td>\n",
       "      <td>chapparal</td>\n",
       "    </tr>\n",
       "    <tr>\n",
       "      <th>4</th>\n",
       "      <td>5</td>\n",
       "      <td>False</td>\n",
       "      <td>flat</td>\n",
       "      <td>4450</td>\n",
       "      <td>conifer</td>\n",
       "    </tr>\n",
       "    <tr>\n",
       "      <th>5</th>\n",
       "      <td>6</td>\n",
       "      <td>True</td>\n",
       "      <td>steep</td>\n",
       "      <td>5000</td>\n",
       "      <td>conifer</td>\n",
       "    </tr>\n",
       "    <tr>\n",
       "      <th>6</th>\n",
       "      <td>7</td>\n",
       "      <td>True</td>\n",
       "      <td>steep</td>\n",
       "      <td>3000</td>\n",
       "      <td>chapparal</td>\n",
       "    </tr>\n",
       "  </tbody>\n",
       "</table>\n",
       "</div>"
      ],
      "text/plain": [
       "   ID  STREAM     SLOPE  ELEVATION VEGETATION\n",
       "0   1   False     steep       3900  chapparal\n",
       "1   2    True  moderate        300   riparian\n",
       "2   3    True     steep       1500   riparian\n",
       "3   4   False     steep       1200  chapparal\n",
       "4   5   False      flat       4450    conifer\n",
       "5   6    True     steep       5000    conifer\n",
       "6   7    True     steep       3000  chapparal"
      ]
     },
     "execution_count": 2,
     "metadata": {},
     "output_type": "execute_result"
    }
   ],
   "source": [
    "pd_data = pd.read_csv('data/vegeterianl_dataset.csv',  delimiter=r\"\\s+\")\n",
    "pd_data.drop(\"ID\",axis=1)\n",
    "pd_data"
   ]
  },
  {
   "cell_type": "code",
   "execution_count": 3,
   "metadata": {},
   "outputs": [
    {
     "data": {
      "text/html": [
       "<div>\n",
       "<style scoped>\n",
       "    .dataframe tbody tr th:only-of-type {\n",
       "        vertical-align: middle;\n",
       "    }\n",
       "\n",
       "    .dataframe tbody tr th {\n",
       "        vertical-align: top;\n",
       "    }\n",
       "\n",
       "    .dataframe thead th {\n",
       "        text-align: right;\n",
       "    }\n",
       "</style>\n",
       "<table border=\"1\" class=\"dataframe\">\n",
       "  <thead>\n",
       "    <tr style=\"text-align: right;\">\n",
       "      <th></th>\n",
       "      <th>ID</th>\n",
       "      <th>STREAM</th>\n",
       "      <th>SLOPE</th>\n",
       "      <th>ELEVATION</th>\n",
       "      <th>VEGETATION</th>\n",
       "    </tr>\n",
       "  </thead>\n",
       "  <tbody>\n",
       "    <tr>\n",
       "      <th>1</th>\n",
       "      <td>2</td>\n",
       "      <td>True</td>\n",
       "      <td>moderate</td>\n",
       "      <td>300</td>\n",
       "      <td>riparian</td>\n",
       "    </tr>\n",
       "    <tr>\n",
       "      <th>3</th>\n",
       "      <td>4</td>\n",
       "      <td>False</td>\n",
       "      <td>steep</td>\n",
       "      <td>1200</td>\n",
       "      <td>chapparal</td>\n",
       "    </tr>\n",
       "    <tr>\n",
       "      <th>2</th>\n",
       "      <td>3</td>\n",
       "      <td>True</td>\n",
       "      <td>steep</td>\n",
       "      <td>1500</td>\n",
       "      <td>riparian</td>\n",
       "    </tr>\n",
       "    <tr>\n",
       "      <th>6</th>\n",
       "      <td>7</td>\n",
       "      <td>True</td>\n",
       "      <td>steep</td>\n",
       "      <td>3000</td>\n",
       "      <td>chapparal</td>\n",
       "    </tr>\n",
       "    <tr>\n",
       "      <th>0</th>\n",
       "      <td>1</td>\n",
       "      <td>False</td>\n",
       "      <td>steep</td>\n",
       "      <td>3900</td>\n",
       "      <td>chapparal</td>\n",
       "    </tr>\n",
       "    <tr>\n",
       "      <th>4</th>\n",
       "      <td>5</td>\n",
       "      <td>False</td>\n",
       "      <td>flat</td>\n",
       "      <td>4450</td>\n",
       "      <td>conifer</td>\n",
       "    </tr>\n",
       "    <tr>\n",
       "      <th>5</th>\n",
       "      <td>6</td>\n",
       "      <td>True</td>\n",
       "      <td>steep</td>\n",
       "      <td>5000</td>\n",
       "      <td>conifer</td>\n",
       "    </tr>\n",
       "  </tbody>\n",
       "</table>\n",
       "</div>"
      ],
      "text/plain": [
       "   ID  STREAM     SLOPE  ELEVATION VEGETATION\n",
       "1   2    True  moderate        300   riparian\n",
       "3   4   False     steep       1200  chapparal\n",
       "2   3    True     steep       1500   riparian\n",
       "6   7    True     steep       3000  chapparal\n",
       "0   1   False     steep       3900  chapparal\n",
       "4   5   False      flat       4450    conifer\n",
       "5   6    True     steep       5000    conifer"
      ]
     },
     "execution_count": 3,
     "metadata": {},
     "output_type": "execute_result"
    }
   ],
   "source": [
    "# ELEVATION : continuous value\n",
    "pd_data.sort_values(\"ELEVATION\")"
   ]
  },
  {
   "cell_type": "code",
   "execution_count": 4,
   "metadata": {},
   "outputs": [],
   "source": [
    "def get_info(df):\n",
    "    riparian = df.loc[df[\"VEGETATION\"]==\"riparian\"]\n",
    "    chapparal = df.loc[df[\"VEGETATION\"]==\"chapparal\"]\n",
    "    conifer = df.loc[df[\"VEGETATION\"]==\"conifer\"]\n",
    "\n",
    "    x = np.array([len(riparian)/len(df),len(chapparal)/len(df), \n",
    "                  len(conifer)/len(df)])\n",
    "    y = np.log2(x[x!=0])\n",
    "    \n",
    "\n",
    "    info_all = - sum(x[x!=0] * y) # entropy\n",
    "    return info_all"
   ]
  },
  {
   "cell_type": "code",
   "execution_count": 5,
   "metadata": {},
   "outputs": [
    {
     "data": {
      "text/plain": [
       "1.5566567074628228"
      ]
     },
     "execution_count": 5,
     "metadata": {},
     "output_type": "execute_result"
    }
   ],
   "source": [
    "get_info(pd_data)"
   ]
  },
  {
   "cell_type": "code",
   "execution_count": 6,
   "metadata": {},
   "outputs": [],
   "source": [
    "def get_attribute_info(df, attribute_name, continuous_value=0):\n",
    "    get_infos = []\n",
    "    if continuous_value == 0: # 해당 attribute가 연속적인 값이 아닐 때 (continuous_value = 0일 때)\n",
    "        attribute_values = pd_data[attribute_name].unique()\n",
    "        for value in attribute_values:\n",
    "            split_df = pd_data.loc[pd_data[attribute_name] == value]\n",
    "            get_infos.append((len(split_df) / len(df)) * get_info(split_df))\n",
    "    else: # 해당 attribute가 연속적인 값일 때 (continuous_value가 split의 기준값)\n",
    "        split_df_1 = pd_data.loc[pd_data[attribute_name] >= continuous_value]\n",
    "        split_df_2 = pd_data.loc[pd_data[attribute_name] < continuous_value]\n",
    "\n",
    "        get_infos.append((len(split_df_1) / len(df)) * get_info(split_df_1))                     \n",
    "        get_infos.append((len(split_df_2) / len(df)) * get_info(split_df_2))                     \n",
    "    return sum(get_infos)"
   ]
  },
  {
   "cell_type": "code",
   "execution_count": 8,
   "metadata": {},
   "outputs": [],
   "source": [
    "def get_continuos_attribute_info(df, attribute_name):\n",
    "    sorted_df = df.sort_values(attribute_name)\n",
    "    prior = 0 # y의 초기 기준값 : 0 (y가 바뀌는 지점을 찾아 split_index에 추가하게 됨)\n",
    "    split_index = []\n",
    "    rank_to_index = {}\n",
    "    index_to_rank = {}\n",
    "    for rank, index in enumerate(sorted_df.index):\n",
    "      # rank : 순위 (그냥 0부터 1씩 증가), index : 기존 df에서 부여받은 index (ID 값 아님)\n",
    "      if prior != sorted_df[\"VEGETATION\"][index]:\n",
    "        split_index.append(index) # 값이 바뀌는 지점 저장\n",
    "        prior = sorted_df[\"VEGETATION\"][index] # prior를 바뀐 지점에서의 y 값으로 업데이트\n",
    "      index_to_rank[index] = rank\n",
    "      rank_to_index[rank] = index\n",
    "\n",
    "    split_value = []\n",
    "    for v in split_index[1:]:  # 0번째는 prior 초기값 0에서 첫 y값으로 바뀐 경우이므로 제외\n",
    "      current_value = sorted_df[attribute_name][v]\n",
    "      prior_value_index = rank_to_index[index_to_rank[v] - 1]\n",
    "      prior_value = sorted_df[attribute_name][prior_value_index]\n",
    "      \n",
    "      split_value_average = current_value + prior_value\n",
    "      split_value.append(split_value_average/2)\n",
    "    result = {}\n",
    "    for value in split_value:\n",
    "        result[value] = (get_attribute_info(df, attribute_name, value))\n",
    "    return result"
   ]
  },
  {
   "cell_type": "code",
   "execution_count": 9,
   "metadata": {},
   "outputs": [
    {
     "data": {
      "text/plain": [
       "{750.0: 1.250698214594781,\n",
       " 1350.0: 1.3728057820624016,\n",
       " 2250.0: 0.9649839288804954,\n",
       " 4175.0: 0.6935361388961918}"
      ]
     },
     "execution_count": 9,
     "metadata": {},
     "output_type": "execute_result"
    }
   ],
   "source": [
    "get_continuos_attribute_info(pd_data, \"ELEVATION\")"
   ]
  },
  {
   "cell_type": "code",
   "execution_count": 10,
   "metadata": {},
   "outputs": [
    {
     "name": "stdout",
     "output_type": "stream",
     "text": [
      "750.0 : 0.3059584928680419\n",
      "1350.0 : 0.18385092540042125\n",
      "2250.0 : 0.5916727785823274\n",
      "4175.0 : 0.863120568566631\n"
     ]
    }
   ],
   "source": [
    "for key, value in get_continuos_attribute_info(pd_data, \"ELEVATION\").items():\n",
    "    print(key, \":\", get_info(pd_data) - value)"
   ]
  },
  {
   "cell_type": "code",
   "execution_count": 11,
   "metadata": {},
   "outputs": [
    {
     "data": {
      "text/plain": [
       "0.30595849286804166"
      ]
     },
     "execution_count": 11,
     "metadata": {},
     "output_type": "execute_result"
    }
   ],
   "source": [
    "get_info(pd_data) - get_attribute_info(pd_data, \"STREAM\")"
   ]
  },
  {
   "cell_type": "code",
   "execution_count": 12,
   "metadata": {},
   "outputs": [
    {
     "data": {
      "text/plain": [
       "0.5774062828523452"
      ]
     },
     "execution_count": 12,
     "metadata": {},
     "output_type": "execute_result"
    }
   ],
   "source": [
    "get_info(pd_data) - get_attribute_info(pd_data, \"SLOPE\")"
   ]
  },
  {
   "cell_type": "markdown",
   "metadata": {},
   "source": [
    "## Continuous attribute branch 특징"
   ]
  },
  {
   "cell_type": "markdown",
   "metadata": {},
   "source": [
    "- 명목속성과 달리, 여러번 재사용 가능 (단, 경계값은 달라야 함)\n",
    "- 연속값과 명목값을 번갈아가면서 split 가능 (성능상 좋고 나쁨은 데이터에 따라 다름)"
   ]
  }
 ],
 "metadata": {
  "anaconda-cloud": {},
  "kernelspec": {
   "display_name": "Python 3.9.12 ('pknu_jin')",
   "language": "python",
   "name": "python3"
  },
  "language_info": {
   "codemirror_mode": {
    "name": "ipython",
    "version": 3
   },
   "file_extension": ".py",
   "mimetype": "text/x-python",
   "name": "python",
   "nbconvert_exporter": "python",
   "pygments_lexer": "ipython3",
   "version": "3.9.12"
  },
  "vscode": {
   "interpreter": {
    "hash": "d95c04b9551bfc1f42244394e44dd2408012d71311d6026dd90a6008fca68d0b"
   }
  }
 },
 "nbformat": 4,
 "nbformat_minor": 2
}
