{
 "cells": [
  {
   "cell_type": "code",
   "execution_count": 1,
   "metadata": {},
   "outputs": [],
   "source": [
    "import sklearn\n",
    "import numpy as np"
   ]
  },
  {
   "cell_type": "code",
   "execution_count": 2,
   "metadata": {},
   "outputs": [],
   "source": [
    "from sklearn.datasets import load_iris\n",
    "datasets = load_iris()"
   ]
  },
  {
   "cell_type": "code",
   "execution_count": 3,
   "metadata": {},
   "outputs": [
    {
     "data": {
      "text/plain": [
       "array([[5.1, 3.5, 1.4, 0.2],\n",
       "       [4.9, 3. , 1.4, 0.2],\n",
       "       [4.7, 3.2, 1.3, 0.2],\n",
       "       [4.6, 3.1, 1.5, 0.2],\n",
       "       [5. , 3.6, 1.4, 0.2]])"
      ]
     },
     "execution_count": 3,
     "metadata": {},
     "output_type": "execute_result"
    }
   ],
   "source": [
    "x_data = datasets[\"data\"]\n",
    "x_data[:5]"
   ]
  },
  {
   "cell_type": "code",
   "execution_count": 4,
   "metadata": {},
   "outputs": [
    {
     "data": {
      "text/plain": [
       "array([0, 0, 0, 0, 0, 0, 0, 0, 0, 0, 0, 0, 0, 0, 0, 0, 0, 0, 0, 0, 0, 0,\n",
       "       0, 0, 0, 0, 0, 0, 0, 0, 0, 0, 0, 0, 0, 0, 0, 0, 0, 0, 0, 0, 0, 0,\n",
       "       0, 0, 0, 0, 0, 0, 1, 1, 1, 1, 1, 1, 1, 1, 1, 1, 1, 1, 1, 1, 1, 1,\n",
       "       1, 1, 1, 1, 1, 1, 1, 1, 1, 1, 1, 1, 1, 1, 1, 1, 1, 1, 1, 1, 1, 1,\n",
       "       1, 1, 1, 1, 1, 1, 1, 1, 1, 1, 1, 1, 2, 2, 2, 2, 2, 2, 2, 2, 2, 2,\n",
       "       2, 2, 2, 2, 2, 2, 2, 2, 2, 2, 2, 2, 2, 2, 2, 2, 2, 2, 2, 2, 2, 2,\n",
       "       2, 2, 2, 2, 2, 2, 2, 2, 2, 2, 2, 2, 2, 2, 2, 2, 2, 2])"
      ]
     },
     "execution_count": 4,
     "metadata": {},
     "output_type": "execute_result"
    }
   ],
   "source": [
    "y_data = datasets[\"target\"]\n",
    "y_data"
   ]
  },
  {
   "cell_type": "code",
   "execution_count": 5,
   "metadata": {},
   "outputs": [
    {
     "data": {
      "text/plain": [
       "array([[0],\n",
       "       [0],\n",
       "       [0]])"
      ]
     },
     "execution_count": 5,
     "metadata": {},
     "output_type": "execute_result"
    }
   ],
   "source": [
    "y_data = y_data.reshape([-1,1])\n",
    "y_data[:3]"
   ]
  },
  {
   "cell_type": "code",
   "execution_count": 6,
   "metadata": {},
   "outputs": [
    {
     "data": {
      "text/plain": [
       "array([1., 0., 0.])"
      ]
     },
     "execution_count": 6,
     "metadata": {},
     "output_type": "execute_result"
    }
   ],
   "source": [
    "from sklearn.preprocessing import OneHotEncoder\n",
    "enc = OneHotEncoder()\n",
    "enc.fit(y_data)  \n",
    "y_data = enc.transform(y_data).toarray()\n",
    "y_data[0]"
   ]
  },
  {
   "cell_type": "code",
   "execution_count": 7,
   "metadata": {},
   "outputs": [
    {
     "data": {
      "text/plain": [
       "array([[0.22222222, 0.625     , 0.06779661, 0.04166667],\n",
       "       [0.16666667, 0.41666667, 0.06779661, 0.04166667],\n",
       "       [0.11111111, 0.5       , 0.05084746, 0.04166667]])"
      ]
     },
     "execution_count": 7,
     "metadata": {},
     "output_type": "execute_result"
    }
   ],
   "source": [
    "from sklearn.preprocessing import MinMaxScaler\n",
    "\n",
    "min_max_scaler = MinMaxScaler()\n",
    "x_data_minmax = min_max_scaler.fit_transform(x_data)\n",
    "x_data_minmax[:3]"
   ]
  },
  {
   "cell_type": "code",
   "execution_count": 8,
   "metadata": {},
   "outputs": [
    {
     "data": {
      "text/plain": [
       "array([[1.        , 0.22222222, 0.625     , 0.06779661, 0.04166667],\n",
       "       [1.        , 0.16666667, 0.41666667, 0.06779661, 0.04166667],\n",
       "       [1.        , 0.11111111, 0.5       , 0.05084746, 0.04166667]])"
      ]
     },
     "execution_count": 8,
     "metadata": {},
     "output_type": "execute_result"
    }
   ],
   "source": [
    "x_0 =np.ones(x_data_minmax.shape[0])\n",
    "x_data_minmax = np.column_stack((x_0, x_data_minmax))\n",
    "\n",
    "x_data_minmax[:3]"
   ]
  },
  {
   "cell_type": "code",
   "execution_count": 9,
   "metadata": {},
   "outputs": [
    {
     "data": {
      "text/plain": [
       "array([[0.05139105, 0.51737664, 0.97052329, 0.43422522, 0.26210936],\n",
       "       [0.80122544, 0.9191734 , 0.20996817, 0.80428481, 0.96430556],\n",
       "       [0.51203339, 0.74027678, 0.44031419, 0.18891026, 0.06584746]])"
      ]
     },
     "execution_count": 9,
     "metadata": {},
     "output_type": "execute_result"
    }
   ],
   "source": [
    "weights = np.random.uniform(size=(3,5)) # size=(class 수, feature 수)\n",
    "weights"
   ]
  },
  {
   "cell_type": "code",
   "execution_count": 10,
   "metadata": {},
   "outputs": [
    {
     "data": {
      "text/plain": [
       "(150, 3)"
      ]
     },
     "execution_count": 10,
     "metadata": {},
     "output_type": "execute_result"
    }
   ],
   "source": [
    "z = x_data_minmax.dot(weights.T) # (150, 5) dot (5, 3)\n",
    "z.shape"
   ]
  },
  {
   "cell_type": "code",
   "execution_count": 11,
   "metadata": {},
   "outputs": [],
   "source": [
    "def softmax(z):\n",
    "    e = np.exp(z) # (150, 3)\n",
    "    p = e / np.sum(np.exp(z), axis=1).reshape([-1,1]) # 분모 : (150, 1), reshape을 안 하면 (1, 150)\n",
    "    return p"
   ]
  },
  {
   "cell_type": "code",
   "execution_count": 12,
   "metadata": {},
   "outputs": [
    {
     "data": {
      "text/plain": [
       "array([[0.27132762, 0.41217565, 0.31649674],\n",
       "       [0.24830464, 0.43220754, 0.31948783],\n",
       "       [0.26255938, 0.41686105, 0.32057957],\n",
       "       [0.2583081 , 0.42390184, 0.31779005],\n",
       "       [0.27860343, 0.40547577, 0.31592081]])"
      ]
     },
     "execution_count": 12,
     "metadata": {},
     "output_type": "execute_result"
    }
   ],
   "source": [
    "softmax(z[:5]) # 한 행의 총합이 1이 되고, 각 클래스로 분류될 확률을 담은 리스트"
   ]
  },
  {
   "cell_type": "code",
   "execution_count": 13,
   "metadata": {},
   "outputs": [
    {
     "data": {
      "text/plain": [
       "array([0.27132762, 0.24830464])"
      ]
     },
     "execution_count": 13,
     "metadata": {},
     "output_type": "execute_result"
    }
   ],
   "source": [
    "np.sum(y_data[:2] * softmax(z[:2]), axis=1)"
   ]
  },
  {
   "cell_type": "code",
   "execution_count": 14,
   "metadata": {},
   "outputs": [],
   "source": [
    "def cross_entropy_function(y, x, weights):\n",
    "    z = x_data_minmax.dot(weights.T)\n",
    "    result = - np.sum(\n",
    "                np.sum(\n",
    "                    (y * np.log(softmax(z))), axis=1).reshape((-1,1)) # (150, 3) * (150, 3), sum: (1, 150), reshape : (150, 1)\n",
    "                ) # 스칼라값\n",
    "    return result "
   ]
  },
  {
   "cell_type": "code",
   "execution_count": 15,
   "metadata": {},
   "outputs": [
    {
     "data": {
      "text/plain": [
       "183.56011882051672"
      ]
     },
     "execution_count": 15,
     "metadata": {},
     "output_type": "execute_result"
    }
   ],
   "source": [
    "cross_entropy_function(y_data,x_data_minmax,weights)"
   ]
  },
  {
   "cell_type": "code",
   "execution_count": 26,
   "metadata": {},
   "outputs": [],
   "source": [
    "def minimize_grdient(y, x, initial_weights, iterations = 500000, alpha=0.001):\n",
    "    cost_history= []\n",
    "    theta_history = []\n",
    "    m = y.shape[0]\n",
    "    theta = np.copy(initial_weights)\n",
    "    \n",
    "    number_of_classes = theta.shape[0]\n",
    "    number_of_weights = theta.shape[1]\n",
    "    \n",
    "    for _ in range(iterations):\n",
    "        original_theta = np.copy(theta)\n",
    "        partial_entropy = y - softmax(x.dot(original_theta.T)) # (150, 3) - (150, 3)\n",
    "        for k in range(number_of_classes):        \n",
    "            for j in range(number_of_weights):\n",
    "                partial_x = x[:, j] # (150,)\n",
    "                theta[k][j]  = original_theta[k][j] + (\n",
    "                    alpha* partial_entropy[:,k].dot(partial_x.T) ) /150\n",
    "        if (_ % 10000) == 0:\n",
    "            print(cross_entropy_function(y,x,theta)/150)\n",
    "            cost_history.append(cross_entropy_function(y,x,theta))\n",
    "    return theta, cost_history\n",
    "\n",
    "            "
   ]
  },
  {
   "cell_type": "code",
   "execution_count": 27,
   "metadata": {},
   "outputs": [
    {
     "name": "stdout",
     "output_type": "stream",
     "text": [
      "1.2234822290326652\n",
      "0.7435197336332294\n",
      "0.6099931823850818\n",
      "0.5375976817382121\n",
      "0.4904309182921204\n",
      "0.45620703933636586\n",
      "0.42964060754196953\n",
      "0.4080637144430257\n",
      "0.389968098423936\n",
      "0.37442722171272164\n",
      "0.3608349876950891\n",
      "0.34877505617466514\n",
      "0.3379500678369514\n",
      "0.32814078531992324\n",
      "0.3191812420781497\n",
      "0.3109429600531564\n",
      "0.30332455663696084\n",
      "0.29624468657645375\n",
      "0.289637120203968\n",
      "0.2834472316307154\n",
      "0.27762944199344786\n",
      "0.2721453245321274\n",
      "0.26696217764510194\n",
      "0.2620519348515897\n",
      "0.25739032124789046\n",
      "0.25295619295755306\n",
      "0.24873101424807628\n",
      "0.24469843947805459\n",
      "0.24084397576535377\n",
      "0.23715470845450018\n",
      "0.2336190759085918\n",
      "0.23022668338745603\n",
      "0.22696814815639746\n",
      "0.22383496974284237\n",
      "0.22081942059069226\n",
      "0.21791445337300103\n",
      "0.21511362199716103\n",
      "0.21241101393354797\n",
      "0.2098011919626046\n",
      "0.20727914379875367\n",
      "0.2048402383360891\n",
      "0.20248018748830077\n",
      "0.20019501277691787\n",
      "0.19798101596794965\n",
      "0.19583475317489485\n",
      "0.1937530119418696\n",
      "0.19173279089879494\n",
      "0.18977128164471704\n",
      "0.18786585256821137\n",
      "0.18601403435756347\n"
     ]
    }
   ],
   "source": [
    "# weights = minimize_grdient(y_data, x_data_minmax,weights)\n",
    "theta, cost_history = minimize_grdient(y_data, x_data_minmax,weights)"
   ]
  },
  {
   "cell_type": "code",
   "execution_count": 28,
   "metadata": {},
   "outputs": [
    {
     "data": {
      "text/plain": [
       "array([142, 143, 122,  45, 110,  53,  86,  93,  59, 124,   5, 139,  17,\n",
       "        54,   4,  67,  49,   4,   7,  89,  54,  73,  13,  72,  75,  55,\n",
       "        26, 137,  92,  78])"
      ]
     },
     "execution_count": 28,
     "metadata": {},
     "output_type": "execute_result"
    }
   ],
   "source": [
    "rand_index= np.random.randint(0,150,30)\n",
    "rand_index"
   ]
  },
  {
   "cell_type": "code",
   "execution_count": 29,
   "metadata": {},
   "outputs": [
    {
     "data": {
      "text/plain": [
       "array([2, 2, 2, 0, 2, 1, 1, 1, 1, 2, 0, 2, 0, 1, 0, 1, 0, 0, 0, 1, 1, 1,\n",
       "       0, 1, 1, 1, 0, 2, 1, 1])"
      ]
     },
     "execution_count": 29,
     "metadata": {},
     "output_type": "execute_result"
    }
   ],
   "source": [
    "y_pred = np.argmax(softmax(x_data_minmax[rand_index].dot(theta.T)),axis=1) \n",
    "y_pred"
   ]
  },
  {
   "cell_type": "code",
   "execution_count": 30,
   "metadata": {},
   "outputs": [
    {
     "data": {
      "text/plain": [
       "array([2, 2, 2, 0, 2, 1, 1, 1, 1, 2, 0, 2, 0, 1, 0, 1, 0, 0, 0, 1, 1, 1,\n",
       "       0, 1, 1, 1, 0, 2, 1, 1])"
      ]
     },
     "execution_count": 30,
     "metadata": {},
     "output_type": "execute_result"
    }
   ],
   "source": [
    "y_true = np.argmax(y_data[rand_index],axis=1) # argmax : 확률값 중 제일 큰 값의 인덱스를 반환\n",
    "y_true"
   ]
  },
  {
   "cell_type": "code",
   "execution_count": 31,
   "metadata": {},
   "outputs": [
    {
     "data": {
      "text/plain": [
       "array([ True,  True,  True,  True,  True,  True,  True,  True,  True,\n",
       "        True,  True,  True,  True,  True,  True,  True,  True,  True,\n",
       "        True,  True,  True,  True,  True,  True,  True,  True,  True,\n",
       "        True,  True,  True])"
      ]
     },
     "execution_count": 31,
     "metadata": {},
     "output_type": "execute_result"
    }
   ],
   "source": [
    "y_pred == y_true"
   ]
  },
  {
   "cell_type": "code",
   "execution_count": 32,
   "metadata": {},
   "outputs": [
    {
     "data": {
      "text/plain": [
       "1.0"
      ]
     },
     "execution_count": 32,
     "metadata": {},
     "output_type": "execute_result"
    }
   ],
   "source": [
    "sum(y_pred == y_true) / len(rand_index)"
   ]
  },
  {
   "cell_type": "code",
   "execution_count": null,
   "metadata": {},
   "outputs": [],
   "source": []
  }
 ],
 "metadata": {
  "kernelspec": {
   "display_name": "Python 3.9.12 ('pknu_jin')",
   "language": "python",
   "name": "python3"
  },
  "language_info": {
   "codemirror_mode": {
    "name": "ipython",
    "version": 3
   },
   "file_extension": ".py",
   "mimetype": "text/x-python",
   "name": "python",
   "nbconvert_exporter": "python",
   "pygments_lexer": "ipython3",
   "version": "3.9.12"
  },
  "vscode": {
   "interpreter": {
    "hash": "d95c04b9551bfc1f42244394e44dd2408012d71311d6026dd90a6008fca68d0b"
   }
  }
 },
 "nbformat": 4,
 "nbformat_minor": 2
}
